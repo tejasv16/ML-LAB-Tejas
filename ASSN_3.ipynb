{
  "nbformat": 4,
  "nbformat_minor": 0,
  "metadata": {
    "colab": {
      "provenance": [],
      "gpuType": "T4"
    },
    "kernelspec": {
      "name": "python3",
      "display_name": "Python 3"
    },
    "language_info": {
      "name": "python"
    },
    "accelerator": "GPU"
  },
  "cells": [
    {
      "cell_type": "markdown",
      "source": [
        "Sri Sivasubramaniya Nadar College of Engineering, Kalavakkam – 603 110\n",
        "(An Autonomous Institution, Affiliated to Anna University, Chennai)\n",
        "\n",
        "\n",
        "UCS2612 Machine Learning Laboratory\n",
        "\n",
        "\n",
        "Academic Year: 2023-2024\n",
        "\n",
        "Even Batch: 2021-2025\n",
        "\n",
        "\n",
        "Faculty In-charges: Y.V. Lokeswari & Nilu R Salim\n",
        "\n",
        "\n",
        "A. No. : 3 Handwritten character recognition using neural networks\n",
        "\n",
        "\n",
        "\n",
        "Name : V TEJAS\n",
        "\n",
        "Register number : 3122 21 5001 116\n",
        "\n",
        "Class : CSE - B\n",
        "\n",
        "\n",
        "Link to access : https://colab.research.google.com/drive/1g2TEYr8r7nKcXvOPT4oEZ-pJQOWPvnIR?usp=sharing"
      ],
      "metadata": {
        "id": "zOlNHWZyi7Gx"
      }
    },
    {
      "cell_type": "code",
      "execution_count": 1,
      "metadata": {
        "colab": {
          "base_uri": "https://localhost:8080/",
          "height": 36
        },
        "id": "WDcL4y9Yh9oi",
        "outputId": "14bd9651-caea-46f0-a68a-43b4e88c051f"
      },
      "outputs": [
        {
          "output_type": "execute_result",
          "data": {
            "text/plain": [
              "'/content'"
            ],
            "application/vnd.google.colaboratory.intrinsic+json": {
              "type": "string"
            }
          },
          "metadata": {},
          "execution_count": 1
        }
      ],
      "source": [
        "pwd"
      ]
    },
    {
      "cell_type": "code",
      "source": [
        "from google.colab import drive\n",
        "drive.mount('/content/drive')"
      ],
      "metadata": {
        "colab": {
          "base_uri": "https://localhost:8080/"
        },
        "id": "8RBw6nvViCro",
        "outputId": "6e8be4b9-29ff-47d3-a4c6-c484a3132702"
      },
      "execution_count": 2,
      "outputs": [
        {
          "output_type": "stream",
          "name": "stdout",
          "text": [
            "Mounted at /content/drive\n"
          ]
        }
      ]
    },
    {
      "cell_type": "code",
      "source": [
        "cd \"/content/drive/MyDrive/SEM-6/ML Lab/A-3\""
      ],
      "metadata": {
        "colab": {
          "base_uri": "https://localhost:8080/"
        },
        "id": "Iu2FuVPmm7JD",
        "outputId": "a2f5ead3-3475-4fc0-9a98-c19ec8fa3a49"
      },
      "execution_count": 3,
      "outputs": [
        {
          "output_type": "stream",
          "name": "stdout",
          "text": [
            "/content/drive/MyDrive/SEM-6/ML Lab/A-3\n"
          ]
        }
      ]
    },
    {
      "cell_type": "code",
      "source": [
        "import tensorflow as tf\n",
        "import pandas as pd\n",
        "import numpy as np\n",
        "import matplotlib.pyplot as plt\n",
        "import os\n",
        "from tensorflow.keras.models import Sequential\n",
        "from tensorflow.keras.layers import Conv2D\n",
        "from tensorflow.keras.layers import MaxPool2D\n",
        "from tensorflow.keras.layers import Flatten\n",
        "from tensorflow.keras.layers import Dense\n",
        "from sklearn.model_selection import train_test_split\n",
        "from sklearn.preprocessing import LabelEncoder\n",
        "import cv2\n",
        "import time\n",
        "import urllib.request"
      ],
      "metadata": {
        "id": "ZPESj7gZiNPr"
      },
      "execution_count": 4,
      "outputs": []
    },
    {
      "cell_type": "code",
      "source": [
        "def read_url_pic(x):\n",
        "    image_url = x\n",
        "\n",
        "    with urllib.request.urlopen(image_url) as url:\n",
        "        s = url.read()\n",
        "\n",
        "    arr = np.asarray(bytearray(s), dtype=np.uint8)\n",
        "    image = cv2.imdecode(arr, -1)\n",
        "    return image\n",
        "\n",
        "\n",
        "\n",
        "\n",
        "\n",
        "\n",
        "def plot_url_pic(x):\n",
        "    image_url = x\n",
        "\n",
        "    with urllib.request.urlopen(image_url) as url:\n",
        "        s = url.read()\n",
        "\n",
        "    arr = np.asarray(bytearray(s), dtype=np.uint8)\n",
        "    image = cv2.imdecode(arr, -1)\n",
        "\n",
        "    plt.imshow(cv2.cvtColor(image, cv2.COLOR_BGR2RGB))\n",
        "    plt.show()\n",
        "\n",
        "def img_to_arr(x):\n",
        "    img = cv2.imread(x)\n",
        "    img = cv2.cvtColor(img, cv2.COLOR_BGR2GRAY)\n",
        "    img = cv2.resize(img,(64,64))\n",
        "    return img\n",
        "\n"
      ],
      "metadata": {
        "id": "gQm-L9UOiRt6"
      },
      "execution_count": 5,
      "outputs": []
    },
    {
      "cell_type": "code",
      "source": [
        "\n",
        "\n",
        "df = pd.read_csv(\"english.csv\")\n",
        "df.head()\n",
        "\n"
      ],
      "metadata": {
        "colab": {
          "base_uri": "https://localhost:8080/",
          "height": 206
        },
        "id": "gCHq4TgqiUVR",
        "outputId": "1e1affd9-5248-4c6a-9c55-da5ab63ac972"
      },
      "execution_count": 6,
      "outputs": [
        {
          "output_type": "execute_result",
          "data": {
            "text/plain": [
              "                image label\n",
              "0  Img/img001-001.png     0\n",
              "1  Img/img001-002.png     0\n",
              "2  Img/img001-003.png     0\n",
              "3  Img/img001-004.png     0\n",
              "4  Img/img001-005.png     0"
            ],
            "text/html": [
              "\n",
              "  <div id=\"df-33e7ba6b-0fd5-4c24-826d-668aa2057001\" class=\"colab-df-container\">\n",
              "    <div>\n",
              "<style scoped>\n",
              "    .dataframe tbody tr th:only-of-type {\n",
              "        vertical-align: middle;\n",
              "    }\n",
              "\n",
              "    .dataframe tbody tr th {\n",
              "        vertical-align: top;\n",
              "    }\n",
              "\n",
              "    .dataframe thead th {\n",
              "        text-align: right;\n",
              "    }\n",
              "</style>\n",
              "<table border=\"1\" class=\"dataframe\">\n",
              "  <thead>\n",
              "    <tr style=\"text-align: right;\">\n",
              "      <th></th>\n",
              "      <th>image</th>\n",
              "      <th>label</th>\n",
              "    </tr>\n",
              "  </thead>\n",
              "  <tbody>\n",
              "    <tr>\n",
              "      <th>0</th>\n",
              "      <td>Img/img001-001.png</td>\n",
              "      <td>0</td>\n",
              "    </tr>\n",
              "    <tr>\n",
              "      <th>1</th>\n",
              "      <td>Img/img001-002.png</td>\n",
              "      <td>0</td>\n",
              "    </tr>\n",
              "    <tr>\n",
              "      <th>2</th>\n",
              "      <td>Img/img001-003.png</td>\n",
              "      <td>0</td>\n",
              "    </tr>\n",
              "    <tr>\n",
              "      <th>3</th>\n",
              "      <td>Img/img001-004.png</td>\n",
              "      <td>0</td>\n",
              "    </tr>\n",
              "    <tr>\n",
              "      <th>4</th>\n",
              "      <td>Img/img001-005.png</td>\n",
              "      <td>0</td>\n",
              "    </tr>\n",
              "  </tbody>\n",
              "</table>\n",
              "</div>\n",
              "    <div class=\"colab-df-buttons\">\n",
              "\n",
              "  <div class=\"colab-df-container\">\n",
              "    <button class=\"colab-df-convert\" onclick=\"convertToInteractive('df-33e7ba6b-0fd5-4c24-826d-668aa2057001')\"\n",
              "            title=\"Convert this dataframe to an interactive table.\"\n",
              "            style=\"display:none;\">\n",
              "\n",
              "  <svg xmlns=\"http://www.w3.org/2000/svg\" height=\"24px\" viewBox=\"0 -960 960 960\">\n",
              "    <path d=\"M120-120v-720h720v720H120Zm60-500h600v-160H180v160Zm220 220h160v-160H400v160Zm0 220h160v-160H400v160ZM180-400h160v-160H180v160Zm440 0h160v-160H620v160ZM180-180h160v-160H180v160Zm440 0h160v-160H620v160Z\"/>\n",
              "  </svg>\n",
              "    </button>\n",
              "\n",
              "  <style>\n",
              "    .colab-df-container {\n",
              "      display:flex;\n",
              "      gap: 12px;\n",
              "    }\n",
              "\n",
              "    .colab-df-convert {\n",
              "      background-color: #E8F0FE;\n",
              "      border: none;\n",
              "      border-radius: 50%;\n",
              "      cursor: pointer;\n",
              "      display: none;\n",
              "      fill: #1967D2;\n",
              "      height: 32px;\n",
              "      padding: 0 0 0 0;\n",
              "      width: 32px;\n",
              "    }\n",
              "\n",
              "    .colab-df-convert:hover {\n",
              "      background-color: #E2EBFA;\n",
              "      box-shadow: 0px 1px 2px rgba(60, 64, 67, 0.3), 0px 1px 3px 1px rgba(60, 64, 67, 0.15);\n",
              "      fill: #174EA6;\n",
              "    }\n",
              "\n",
              "    .colab-df-buttons div {\n",
              "      margin-bottom: 4px;\n",
              "    }\n",
              "\n",
              "    [theme=dark] .colab-df-convert {\n",
              "      background-color: #3B4455;\n",
              "      fill: #D2E3FC;\n",
              "    }\n",
              "\n",
              "    [theme=dark] .colab-df-convert:hover {\n",
              "      background-color: #434B5C;\n",
              "      box-shadow: 0px 1px 3px 1px rgba(0, 0, 0, 0.15);\n",
              "      filter: drop-shadow(0px 1px 2px rgba(0, 0, 0, 0.3));\n",
              "      fill: #FFFFFF;\n",
              "    }\n",
              "  </style>\n",
              "\n",
              "    <script>\n",
              "      const buttonEl =\n",
              "        document.querySelector('#df-33e7ba6b-0fd5-4c24-826d-668aa2057001 button.colab-df-convert');\n",
              "      buttonEl.style.display =\n",
              "        google.colab.kernel.accessAllowed ? 'block' : 'none';\n",
              "\n",
              "      async function convertToInteractive(key) {\n",
              "        const element = document.querySelector('#df-33e7ba6b-0fd5-4c24-826d-668aa2057001');\n",
              "        const dataTable =\n",
              "          await google.colab.kernel.invokeFunction('convertToInteractive',\n",
              "                                                    [key], {});\n",
              "        if (!dataTable) return;\n",
              "\n",
              "        const docLinkHtml = 'Like what you see? Visit the ' +\n",
              "          '<a target=\"_blank\" href=https://colab.research.google.com/notebooks/data_table.ipynb>data table notebook</a>'\n",
              "          + ' to learn more about interactive tables.';\n",
              "        element.innerHTML = '';\n",
              "        dataTable['output_type'] = 'display_data';\n",
              "        await google.colab.output.renderOutput(dataTable, element);\n",
              "        const docLink = document.createElement('div');\n",
              "        docLink.innerHTML = docLinkHtml;\n",
              "        element.appendChild(docLink);\n",
              "      }\n",
              "    </script>\n",
              "  </div>\n",
              "\n",
              "\n",
              "<div id=\"df-3dfa82d2-fff0-4fc2-bf97-4af7b5f34621\">\n",
              "  <button class=\"colab-df-quickchart\" onclick=\"quickchart('df-3dfa82d2-fff0-4fc2-bf97-4af7b5f34621')\"\n",
              "            title=\"Suggest charts\"\n",
              "            style=\"display:none;\">\n",
              "\n",
              "<svg xmlns=\"http://www.w3.org/2000/svg\" height=\"24px\"viewBox=\"0 0 24 24\"\n",
              "     width=\"24px\">\n",
              "    <g>\n",
              "        <path d=\"M19 3H5c-1.1 0-2 .9-2 2v14c0 1.1.9 2 2 2h14c1.1 0 2-.9 2-2V5c0-1.1-.9-2-2-2zM9 17H7v-7h2v7zm4 0h-2V7h2v10zm4 0h-2v-4h2v4z\"/>\n",
              "    </g>\n",
              "</svg>\n",
              "  </button>\n",
              "\n",
              "<style>\n",
              "  .colab-df-quickchart {\n",
              "      --bg-color: #E8F0FE;\n",
              "      --fill-color: #1967D2;\n",
              "      --hover-bg-color: #E2EBFA;\n",
              "      --hover-fill-color: #174EA6;\n",
              "      --disabled-fill-color: #AAA;\n",
              "      --disabled-bg-color: #DDD;\n",
              "  }\n",
              "\n",
              "  [theme=dark] .colab-df-quickchart {\n",
              "      --bg-color: #3B4455;\n",
              "      --fill-color: #D2E3FC;\n",
              "      --hover-bg-color: #434B5C;\n",
              "      --hover-fill-color: #FFFFFF;\n",
              "      --disabled-bg-color: #3B4455;\n",
              "      --disabled-fill-color: #666;\n",
              "  }\n",
              "\n",
              "  .colab-df-quickchart {\n",
              "    background-color: var(--bg-color);\n",
              "    border: none;\n",
              "    border-radius: 50%;\n",
              "    cursor: pointer;\n",
              "    display: none;\n",
              "    fill: var(--fill-color);\n",
              "    height: 32px;\n",
              "    padding: 0;\n",
              "    width: 32px;\n",
              "  }\n",
              "\n",
              "  .colab-df-quickchart:hover {\n",
              "    background-color: var(--hover-bg-color);\n",
              "    box-shadow: 0 1px 2px rgba(60, 64, 67, 0.3), 0 1px 3px 1px rgba(60, 64, 67, 0.15);\n",
              "    fill: var(--button-hover-fill-color);\n",
              "  }\n",
              "\n",
              "  .colab-df-quickchart-complete:disabled,\n",
              "  .colab-df-quickchart-complete:disabled:hover {\n",
              "    background-color: var(--disabled-bg-color);\n",
              "    fill: var(--disabled-fill-color);\n",
              "    box-shadow: none;\n",
              "  }\n",
              "\n",
              "  .colab-df-spinner {\n",
              "    border: 2px solid var(--fill-color);\n",
              "    border-color: transparent;\n",
              "    border-bottom-color: var(--fill-color);\n",
              "    animation:\n",
              "      spin 1s steps(1) infinite;\n",
              "  }\n",
              "\n",
              "  @keyframes spin {\n",
              "    0% {\n",
              "      border-color: transparent;\n",
              "      border-bottom-color: var(--fill-color);\n",
              "      border-left-color: var(--fill-color);\n",
              "    }\n",
              "    20% {\n",
              "      border-color: transparent;\n",
              "      border-left-color: var(--fill-color);\n",
              "      border-top-color: var(--fill-color);\n",
              "    }\n",
              "    30% {\n",
              "      border-color: transparent;\n",
              "      border-left-color: var(--fill-color);\n",
              "      border-top-color: var(--fill-color);\n",
              "      border-right-color: var(--fill-color);\n",
              "    }\n",
              "    40% {\n",
              "      border-color: transparent;\n",
              "      border-right-color: var(--fill-color);\n",
              "      border-top-color: var(--fill-color);\n",
              "    }\n",
              "    60% {\n",
              "      border-color: transparent;\n",
              "      border-right-color: var(--fill-color);\n",
              "    }\n",
              "    80% {\n",
              "      border-color: transparent;\n",
              "      border-right-color: var(--fill-color);\n",
              "      border-bottom-color: var(--fill-color);\n",
              "    }\n",
              "    90% {\n",
              "      border-color: transparent;\n",
              "      border-bottom-color: var(--fill-color);\n",
              "    }\n",
              "  }\n",
              "</style>\n",
              "\n",
              "  <script>\n",
              "    async function quickchart(key) {\n",
              "      const quickchartButtonEl =\n",
              "        document.querySelector('#' + key + ' button');\n",
              "      quickchartButtonEl.disabled = true;  // To prevent multiple clicks.\n",
              "      quickchartButtonEl.classList.add('colab-df-spinner');\n",
              "      try {\n",
              "        const charts = await google.colab.kernel.invokeFunction(\n",
              "            'suggestCharts', [key], {});\n",
              "      } catch (error) {\n",
              "        console.error('Error during call to suggestCharts:', error);\n",
              "      }\n",
              "      quickchartButtonEl.classList.remove('colab-df-spinner');\n",
              "      quickchartButtonEl.classList.add('colab-df-quickchart-complete');\n",
              "    }\n",
              "    (() => {\n",
              "      let quickchartButtonEl =\n",
              "        document.querySelector('#df-3dfa82d2-fff0-4fc2-bf97-4af7b5f34621 button');\n",
              "      quickchartButtonEl.style.display =\n",
              "        google.colab.kernel.accessAllowed ? 'block' : 'none';\n",
              "    })();\n",
              "  </script>\n",
              "</div>\n",
              "    </div>\n",
              "  </div>\n"
            ],
            "application/vnd.google.colaboratory.intrinsic+json": {
              "type": "dataframe",
              "variable_name": "df",
              "summary": "{\n  \"name\": \"df\",\n  \"rows\": 3410,\n  \"fields\": [\n    {\n      \"column\": \"image\",\n      \"properties\": {\n        \"dtype\": \"string\",\n        \"samples\": [\n          \"Img/img058-001.png\",\n          \"Img/img033-030.png\",\n          \"Img/img004-006.png\"\n        ],\n        \"num_unique_values\": 3410,\n        \"semantic_type\": \"\",\n        \"description\": \"\"\n      }\n    },\n    {\n      \"column\": \"label\",\n      \"properties\": {\n        \"dtype\": \"category\",\n        \"samples\": [\n          \"o\",\n          \"u\",\n          \"0\"\n        ],\n        \"num_unique_values\": 62,\n        \"semantic_type\": \"\",\n        \"description\": \"\"\n      }\n    }\n  ]\n}"
            }
          },
          "metadata": {},
          "execution_count": 6
        }
      ]
    },
    {
      "cell_type": "code",
      "source": [
        "\n",
        "\n",
        "print(img_to_arr(df['image'][0]).shape)\n",
        "plt.imshow(img_to_arr(df['image'][0]))\n",
        "\n"
      ],
      "metadata": {
        "colab": {
          "base_uri": "https://localhost:8080/",
          "height": 468
        },
        "id": "s0GzUIFmiY31",
        "outputId": "7c800d12-9481-4e07-f457-6c98fe2adcc8"
      },
      "execution_count": 7,
      "outputs": [
        {
          "output_type": "stream",
          "name": "stdout",
          "text": [
            "(64, 64)\n"
          ]
        },
        {
          "output_type": "execute_result",
          "data": {
            "text/plain": [
              "<matplotlib.image.AxesImage at 0x79563e8067d0>"
            ]
          },
          "metadata": {},
          "execution_count": 7
        },
        {
          "output_type": "display_data",
          "data": {
            "text/plain": [
              "<Figure size 640x480 with 1 Axes>"
            ],
            "image/png": "[encoded data removed]"
          },
          "metadata": {}
        }
      ]
    },
    {
      "cell_type": "code",
      "source": [
        "\n",
        "start_time = time.time()\n",
        "import multiprocessing\n",
        "\n",
        "with multiprocessing.Pool(4) as p:\n",
        "    images = p.map(img_to_arr, df['image'])\n",
        "end_time = time.time()\n",
        "print(\"with multiprocessing:\", end_time-start_time)\n",
        "\n",
        "\n",
        "\n",
        "\n",
        "\n",
        "\n",
        "\n",
        "\n",
        "x = np.array(images).reshape(3410, 64, 64,1)\n",
        "x.shape\n",
        "\n"
      ],
      "metadata": {
        "colab": {
          "base_uri": "https://localhost:8080/"
        },
        "id": "4-9_Y563ib-u",
        "outputId": "48c7fba4-ed2b-470c-c680-38b1632e180e"
      },
      "execution_count": 8,
      "outputs": [
        {
          "output_type": "stream",
          "name": "stdout",
          "text": [
            "with multiprocessing: 265.803503036499\n"
          ]
        },
        {
          "output_type": "execute_result",
          "data": {
            "text/plain": [
              "(3410, 64, 64, 1)"
            ]
          },
          "metadata": {},
          "execution_count": 8
        }
      ]
    },
    {
      "cell_type": "code",
      "source": [
        "\n",
        "\n",
        "img = x[119].reshape((64,64))\n",
        "plt.imshow(img,cmap='gray')\n",
        "print(df['label'].iloc[119])\n",
        "\n"
      ],
      "metadata": {
        "colab": {
          "base_uri": "https://localhost:8080/",
          "height": 450
        },
        "id": "znjzEydCihoI",
        "outputId": "e8748614-90e5-4512-dccb-84d88aa86dd7"
      },
      "execution_count": 9,
      "outputs": [
        {
          "output_type": "stream",
          "name": "stdout",
          "text": [
            "2\n"
          ]
        },
        {
          "output_type": "display_data",
          "data": {
            "text/plain": [
              "<Figure size 640x480 with 1 Axes>"
            ],
            "image/png": "[encoded data removed]"
          },
          "metadata": {}
        }
      ]
    },
    {
      "cell_type": "code",
      "source": [
        "\n",
        "\n",
        "y = df['label']\n",
        "le = LabelEncoder()\n",
        "y_label = le.fit_transform(y)\n",
        "\n"
      ],
      "metadata": {
        "id": "oTplbXOZik6c"
      },
      "execution_count": 10,
      "outputs": []
    },
    {
      "cell_type": "code",
      "source": [
        "\n",
        "\n",
        "train_images,test_images,train_labels,test_labels = train_test_split(x,y_label,test_size=0.2,random_state=42)\n",
        "train_images = train_images/255.0\n",
        "test_images = test_images/255.0\n",
        "\n"
      ],
      "metadata": {
        "id": "muPw1Ed7inWa"
      },
      "execution_count": 11,
      "outputs": []
    },
    {
      "cell_type": "code",
      "source": [
        "model = Sequential()\n",
        "model.add(Conv2D(512,(5,5),activation='relu',input_shape=(64,64,1)))\n",
        "model.add(MaxPool2D(2,2))\n",
        "model.add(Conv2D(256,(3,3),activation='relu',input_shape=(64,64,1)))\n",
        "model.add(MaxPool2D(2,2))\n",
        "model.add(Conv2D(256,(3,3),activation='relu'))\n",
        "model.add(MaxPool2D(2,2))\n",
        "model.add(Flatten())\n",
        "model.add(Dense(512,activation='relu'))\n",
        "model.add(Dense(1024,activation='relu'))\n",
        "model.add(Dense(512,activation='relu'))\n",
        "model.add(Dense(256,activation='sigmoid'))\n",
        "model.add(Dense(62,activation='softmax'))\n",
        "model.compile(loss='sparse_categorical_crossentropy',optimizer='adam',metrics=['accuracy'])\n",
        "model.fit(train_images,train_labels,epochs=20,validation_data = (test_images,test_labels))"
      ],
      "metadata": {
        "colab": {
          "base_uri": "https://localhost:8080/"
        },
        "id": "MoO-djecirnu",
        "outputId": "c2b41d25-d2b4-4773-e91a-1ff57c24ed43"
      },
      "execution_count": 12,
      "outputs": [
        {
          "output_type": "stream",
          "name": "stdout",
          "text": [
            "Epoch 1/20\n",
            "86/86 [==============================] - 12s 52ms/step - loss: 4.1956 - accuracy: 0.0191 - val_loss: 4.0626 - val_accuracy: 0.0396\n",
            "Epoch 2/20\n",
            "86/86 [==============================] - 3s 36ms/step - loss: 3.4829 - accuracy: 0.1195 - val_loss: 3.0256 - val_accuracy: 0.2023\n",
            "Epoch 3/20\n",
            "86/86 [==============================] - 3s 38ms/step - loss: 2.4440 - accuracy: 0.3068 - val_loss: 2.1658 - val_accuracy: 0.3886\n",
            "Epoch 4/20\n",
            "86/86 [==============================] - 3s 38ms/step - loss: 1.6921 - accuracy: 0.5231 - val_loss: 1.6615 - val_accuracy: 0.5411\n",
            "Epoch 5/20\n",
            "86/86 [==============================] - 3s 37ms/step - loss: 1.2044 - accuracy: 0.6661 - val_loss: 1.3161 - val_accuracy: 0.6510\n",
            "Epoch 6/20\n",
            "86/86 [==============================] - 3s 36ms/step - loss: 0.9102 - accuracy: 0.7364 - val_loss: 1.2421 - val_accuracy: 0.6510\n",
            "Epoch 7/20\n",
            "86/86 [==============================] - 3s 37ms/step - loss: 0.6584 - accuracy: 0.8112 - val_loss: 1.1276 - val_accuracy: 0.6657\n",
            "Epoch 8/20\n",
            "86/86 [==============================] - 3s 38ms/step - loss: 0.4837 - accuracy: 0.8563 - val_loss: 1.0279 - val_accuracy: 0.6818\n",
            "Epoch 9/20\n",
            "86/86 [==============================] - 4s 41ms/step - loss: 0.3694 - accuracy: 0.8867 - val_loss: 0.9292 - val_accuracy: 0.7258\n",
            "Epoch 10/20\n",
            "86/86 [==============================] - 3s 36ms/step - loss: 0.3209 - accuracy: 0.9054 - val_loss: 0.9821 - val_accuracy: 0.7185\n",
            "Epoch 11/20\n",
            "86/86 [==============================] - 3s 38ms/step - loss: 0.2467 - accuracy: 0.9223 - val_loss: 0.8439 - val_accuracy: 0.7581\n",
            "Epoch 12/20\n",
            "86/86 [==============================] - 3s 39ms/step - loss: 0.1585 - accuracy: 0.9567 - val_loss: 1.0044 - val_accuracy: 0.7111\n",
            "Epoch 13/20\n",
            "86/86 [==============================] - 3s 37ms/step - loss: 0.1500 - accuracy: 0.9564 - val_loss: 0.9154 - val_accuracy: 0.7507\n",
            "Epoch 14/20\n",
            "86/86 [==============================] - 3s 37ms/step - loss: 0.1350 - accuracy: 0.9615 - val_loss: 0.9036 - val_accuracy: 0.7463\n",
            "Epoch 15/20\n",
            "86/86 [==============================] - 3s 37ms/step - loss: 0.0916 - accuracy: 0.9736 - val_loss: 0.9751 - val_accuracy: 0.7405\n",
            "Epoch 16/20\n",
            "86/86 [==============================] - 3s 38ms/step - loss: 0.1125 - accuracy: 0.9718 - val_loss: 0.9927 - val_accuracy: 0.7434\n",
            "Epoch 17/20\n",
            "86/86 [==============================] - 3s 38ms/step - loss: 0.1061 - accuracy: 0.9685 - val_loss: 0.9758 - val_accuracy: 0.7273\n",
            "Epoch 18/20\n",
            "86/86 [==============================] - 3s 36ms/step - loss: 0.0883 - accuracy: 0.9732 - val_loss: 1.0116 - val_accuracy: 0.7449\n",
            "Epoch 19/20\n",
            "86/86 [==============================] - 3s 37ms/step - loss: 0.0820 - accuracy: 0.9765 - val_loss: 1.0147 - val_accuracy: 0.7537\n",
            "Epoch 20/20\n",
            "86/86 [==============================] - 3s 37ms/step - loss: 0.1134 - accuracy: 0.9703 - val_loss: 1.0144 - val_accuracy: 0.7375\n"
          ]
        },
        {
          "output_type": "execute_result",
          "data": {
            "text/plain": [
              "<keras.src.callbacks.History at 0x79563e6591b0>"
            ]
          },
          "metadata": {},
          "execution_count": 12
        }
      ]
    },
    {
      "cell_type": "code",
      "source": [
        "\n",
        "\n",
        "model.summary()\n",
        "\n"
      ],
      "metadata": {
        "colab": {
          "base_uri": "https://localhost:8080/"
        },
        "id": "hVFk6ILiiuAU",
        "outputId": "37135a3c-6416-4c96-8910-9ed6456e85f4"
      },
      "execution_count": 13,
      "outputs": [
        {
          "output_type": "stream",
          "name": "stdout",
          "text": [
            "Model: \"sequential\"\n",
            "_________________________________________________________________\n",
            " Layer (type)                Output Shape              Param #   \n",
            "=================================================================\n",
            " conv2d (Conv2D)             (None, 60, 60, 512)       13312     \n",
            "                                                                 \n",
            " max_pooling2d (MaxPooling2  (None, 30, 30, 512)       0         \n",
            " D)                                                              \n",
            "                                                                 \n",
            " conv2d_1 (Conv2D)           (None, 28, 28, 256)       1179904   \n",
            "                                                                 \n",
            " max_pooling2d_1 (MaxPoolin  (None, 14, 14, 256)       0         \n",
            " g2D)                                                            \n",
            "                                                                 \n",
            " conv2d_2 (Conv2D)           (None, 12, 12, 256)       590080    \n",
            "                                                                 \n",
            " max_pooling2d_2 (MaxPoolin  (None, 6, 6, 256)         0         \n",
            " g2D)                                                            \n",
            "                                                                 \n",
            " flatten (Flatten)           (None, 9216)              0         \n",
            "                                                                 \n",
            " dense (Dense)               (None, 512)               4719104   \n",
            "                                                                 \n",
            " dense_1 (Dense)             (None, 1024)              525312    \n",
            "                                                                 \n",
            " dense_2 (Dense)             (None, 512)               524800    \n",
            "                                                                 \n",
            " dense_3 (Dense)             (None, 256)               131328    \n",
            "                                                                 \n",
            " dense_4 (Dense)             (None, 62)                15934     \n",
            "                                                                 \n",
            "=================================================================\n",
            "Total params: 7699774 (29.37 MB)\n",
            "Trainable params: 7699774 (29.37 MB)\n",
            "Non-trainable params: 0 (0.00 Byte)\n",
            "_________________________________________________________________\n"
          ]
        }
      ]
    },
    {
      "cell_type": "code",
      "source": [
        "\n",
        "\n",
        "predicted_labels = le.inverse_transform(model.predict(test_images).argmax(axis=1))\n",
        "actual_labels = le.inverse_transform(test_labels)\n",
        "\n"
      ],
      "metadata": {
        "colab": {
          "base_uri": "https://localhost:8080/"
        },
        "id": "S0o71yC_qXre",
        "outputId": "802658fd-8989-4f66-9e95-5c3b528dde12"
      },
      "execution_count": 14,
      "outputs": [
        {
          "output_type": "stream",
          "name": "stdout",
          "text": [
            "22/22 [==============================] - 1s 21ms/step\n"
          ]
        }
      ]
    },
    {
      "cell_type": "code",
      "source": [
        "\n",
        "\n",
        "print('predicted label is ;',predicted_labels[67])\n",
        "print('Actual Label is :',actual_labels[67])\n",
        "\n"
      ],
      "metadata": {
        "colab": {
          "base_uri": "https://localhost:8080/"
        },
        "id": "YjvUpE_HqZyp",
        "outputId": "5fbf56e2-1e8b-4f65-cf9c-b60fc6302308"
      },
      "execution_count": 15,
      "outputs": [
        {
          "output_type": "stream",
          "name": "stdout",
          "text": [
            "predicted label is ; j\n",
            "Actual Label is : j\n"
          ]
        }
      ]
    },
    {
      "cell_type": "code",
      "source": [
        "# number of image to be predicted\n",
        "# change the value of I\n",
        "i = 450\n",
        "\n",
        "\n",
        "\n",
        "plt.imshow(test_images[i],cmap='gray')\n",
        "print('printed label :',predicted_labels[i])\n",
        "print('actual label :', actual_labels[i])\n"
      ],
      "metadata": {
        "colab": {
          "base_uri": "https://localhost:8080/",
          "height": 468
        },
        "id": "rhKytebRqbU5",
        "outputId": "164c45a7-3a6f-4ed1-f225-195bc7ee97f6"
      },
      "execution_count": 16,
      "outputs": [
        {
          "output_type": "stream",
          "name": "stdout",
          "text": [
            "printed label : B\n",
            "actual label : B\n"
          ]
        },
        {
          "output_type": "display_data",
          "data": {
            "text/plain": [
              "<Figure size 640x480 with 1 Axes>"
            ],
            "image/png": "[encoded data removed]"
          },
          "metadata": {}
        }
      ]
    },
    {
      "cell_type": "code",
      "source": [
        "from sklearn.metrics import accuracy_score, precision_score, recall_score, f1_score, confusion_matrix\n",
        "\n",
        "\n",
        "y_pred = model.predict(test_images)\n",
        "y_pred_labels = np.argmax(y_pred, axis=1)\n",
        "\n",
        "# Calculate evaluation metrics\n",
        "accuracy = accuracy_score(test_labels, y_pred_labels)\n",
        "precision = precision_score(test_labels, y_pred_labels, average='weighted')\n",
        "recall = recall_score(test_labels, y_pred_labels, average='weighted')\n",
        "f1 = f1_score(test_labels, y_pred_labels, average='weighted')\n",
        "confusion_mat = confusion_matrix(test_labels, y_pred_labels)\n",
        "\n",
        "# Print or use the evaluation metrics as needed\n",
        "print(\"Accuracy:\", accuracy)\n",
        "print(\"Precision:\", precision)\n",
        "print(\"Recall:\", recall)\n",
        "print(\"F1 Score:\", f1)\n",
        "print(\"Confusion Matrix:\")\n",
        "print(confusion_mat)"
      ],
      "metadata": {
        "id": "XH0hzu1jqtux",
        "outputId": "c3ae88ba-8e6a-4724-a86c-f2e13d09eefc",
        "colab": {
          "base_uri": "https://localhost:8080/"
        }
      },
      "execution_count": 17,
      "outputs": [
        {
          "output_type": "stream",
          "name": "stdout",
          "text": [
            "22/22 [==============================] - 0s 12ms/step\n",
            "Accuracy: 0.7375366568914956\n",
            "Precision: 0.7680969019833043\n",
            "Recall: 0.7375366568914956\n",
            "F1 Score: 0.7392137886287967\n",
            "Confusion Matrix:\n",
            "[[ 6  0  0 ...  0  0  0]\n",
            " [ 0  4  0 ...  0  0  0]\n",
            " [ 0  0  8 ...  0  0  0]\n",
            " ...\n",
            " [ 0  0  0 ... 11  0  0]\n",
            " [ 0  0  0 ...  1  6  0]\n",
            " [ 0  0  0 ...  1  0  7]]\n"
          ]
        }
      ]
    }
  ]
}